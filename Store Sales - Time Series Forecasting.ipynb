{
 "cells": [
  {
   "cell_type": "code",
   "execution_count": 1,
   "id": "91cc44c6-5292-4298-9271-149f5520142d",
   "metadata": {},
   "outputs": [],
   "source": [
    "import numpy as np\n",
    "import pandas as pd\n",
    "import matplotlib.pyplot as plt\n",
    "import scipy\n",
    "import tensorflow as tf"
   ]
  },
  {
   "cell_type": "code",
   "execution_count": 79,
   "id": "47f6f4c4-9aae-483c-bd9c-fd64d17be421",
   "metadata": {},
   "outputs": [
    {
     "name": "stdout",
     "output_type": "stream",
     "text": [
      "   id       date  store_nbr      family  sales  onpromotion\n",
      "0   0 2013-01-01          1  AUTOMOTIVE    0.0            0\n",
      "1   1 2013-01-01          1   BABY CARE    0.0            0\n",
      "2   2 2013-01-01          1      BEAUTY    0.0            0\n",
      "3   3 2013-01-01          1   BEVERAGES    0.0            0\n",
      "4   4 2013-01-01          1       BOOKS    0.0            0\n"
     ]
    }
   ],
   "source": [
    "test = pd.read_csv(r'/Users/henry/Desktop/store-sales-time-series-forecasting/test.csv', parse_dates=[\"date\"])\n",
    "train = pd.read_csv(r'/Users/henry/Desktop/store-sales-time-series-forecasting/train.csv', parse_dates=[\"date\"])\n",
    "holidays_events = pd.read_csv(r'/Users/henry/Desktop/store-sales-time-series-forecasting/holidays_events.csv', parse_dates=[\"date\"])\n",
    "oil = pd.read_csv(r'/Users/henry/Desktop/store-sales-time-series-forecasting/oil.csv', parse_dates=[\"date\"])\n",
    "stores = pd.read_csv(r'/Users/henry/Desktop/store-sales-time-series-forecasting/stores.csv')\n",
    "print(train.head())"
   ]
  },
  {
   "cell_type": "code",
   "execution_count": 80,
   "id": "9d151aee-de7e-475c-b430-89e5c6f50899",
   "metadata": {
    "editable": true,
    "slideshow": {
     "slide_type": ""
    },
    "tags": []
   },
   "outputs": [
    {
     "name": "stdout",
     "output_type": "stream",
     "text": [
      "The number of product familes is 33\n",
      "The number of stores is 54\n",
      "The number of groups of stores and products is 1782\n",
      "Train set starts on 2013-01-01\n",
      "Train set ends on 2017-08-15\n",
      "Train set includes 1684 days\n",
      "Train set lasts for 1688\n",
      "Test set starts on 2017-08-16\n",
      "Test set ends on 2017-08-31\n",
      "Test set includes 16 days\n",
      "Test set lasts for 16\n"
     ]
    }
   ],
   "source": [
    "num_family = train.family.nunique()\n",
    "num_store = train.store_nbr.nunique()\n",
    "num_ts = train.groupby([\"store_nbr\", \"family\"]).ngroups\n",
    "train_start = train.date.min().date()\n",
    "train_end = train.date.max().date()\n",
    "num_train_date = train.date.nunique()\n",
    "train_len = (train_end - train_start).days + 1\n",
    "test_start = test.date.min().date()\n",
    "test_end = test.date.max().date()\n",
    "num_test_date = test.date.nunique()\n",
    "test_len = (test_end - test_start).days + 1\n",
    "print(\"The number of product familes is \" + str(num_family))\n",
    "print(\"The number of stores is \" + str(num_store))\n",
    "print(\"The number of groups of stores and products is \" + str(num_ts))\n",
    "print(\"Train set starts on \" + str(train_start))\n",
    "print(\"Train set ends on \" + str(train_end))\n",
    "print(\"Train set includes \" + str(num_train_date) + \" days\")\n",
    "print(\"Train set lasts for \" + str(train_len))\n",
    "print(\"Test set starts on \" + str(test_start))\n",
    "print(\"Test set ends on \" + str(test_end))\n",
    "print(\"Test set includes \" + str(num_test_date) + \" days\")\n",
    "print(\"Test set lasts for \" + str(test_len))"
   ]
  },
  {
   "cell_type": "code",
   "execution_count": 81,
   "id": "0df2662c-aec4-46d3-91f6-95e86b7ad08f",
   "metadata": {},
   "outputs": [
    {
     "name": "stdout",
     "output_type": "stream",
     "text": [
      "['2013-12-25', '2014-12-25', '2015-12-25', '2016-12-25']\n"
     ]
    }
   ],
   "source": [
    "missing_dates = pd.date_range(train_start, train_end).difference(train.date.unique())\n",
    "missing_dates = missing_dates.strftime(\"%Y-%m-%d\").tolist()\n",
    "print(missing_dates)"
   ]
  },
  {
   "cell_type": "code",
   "execution_count": 82,
   "id": "1481a71b-014d-432f-a562-15bc85cf30fa",
   "metadata": {},
   "outputs": [
    {
     "data": {
      "text/html": [
       "<div>\n",
       "<style scoped>\n",
       "    .dataframe tbody tr th:only-of-type {\n",
       "        vertical-align: middle;\n",
       "    }\n",
       "\n",
       "    .dataframe tbody tr th {\n",
       "        vertical-align: top;\n",
       "    }\n",
       "\n",
       "    .dataframe thead th {\n",
       "        text-align: right;\n",
       "    }\n",
       "</style>\n",
       "<table border=\"1\" class=\"dataframe\">\n",
       "  <thead>\n",
       "    <tr style=\"text-align: right;\">\n",
       "      <th></th>\n",
       "      <th>id</th>\n",
       "      <th>date</th>\n",
       "      <th>store_nbr</th>\n",
       "      <th>family</th>\n",
       "      <th>sales</th>\n",
       "      <th>onpromotion</th>\n",
       "      <th>city</th>\n",
       "      <th>state</th>\n",
       "    </tr>\n",
       "  </thead>\n",
       "  <tbody>\n",
       "    <tr>\n",
       "      <th>0</th>\n",
       "      <td>0</td>\n",
       "      <td>2013-01-01</td>\n",
       "      <td>1</td>\n",
       "      <td>AUTOMOTIVE</td>\n",
       "      <td>0.000</td>\n",
       "      <td>0</td>\n",
       "      <td>Quito</td>\n",
       "      <td>Pichincha</td>\n",
       "    </tr>\n",
       "    <tr>\n",
       "      <th>1</th>\n",
       "      <td>1</td>\n",
       "      <td>2013-01-01</td>\n",
       "      <td>1</td>\n",
       "      <td>BABY CARE</td>\n",
       "      <td>0.000</td>\n",
       "      <td>0</td>\n",
       "      <td>Quito</td>\n",
       "      <td>Pichincha</td>\n",
       "    </tr>\n",
       "    <tr>\n",
       "      <th>2</th>\n",
       "      <td>2</td>\n",
       "      <td>2013-01-01</td>\n",
       "      <td>1</td>\n",
       "      <td>BEAUTY</td>\n",
       "      <td>0.000</td>\n",
       "      <td>0</td>\n",
       "      <td>Quito</td>\n",
       "      <td>Pichincha</td>\n",
       "    </tr>\n",
       "    <tr>\n",
       "      <th>3</th>\n",
       "      <td>3</td>\n",
       "      <td>2013-01-01</td>\n",
       "      <td>1</td>\n",
       "      <td>BEVERAGES</td>\n",
       "      <td>0.000</td>\n",
       "      <td>0</td>\n",
       "      <td>Quito</td>\n",
       "      <td>Pichincha</td>\n",
       "    </tr>\n",
       "    <tr>\n",
       "      <th>4</th>\n",
       "      <td>4</td>\n",
       "      <td>2013-01-01</td>\n",
       "      <td>1</td>\n",
       "      <td>BOOKS</td>\n",
       "      <td>0.000</td>\n",
       "      <td>0</td>\n",
       "      <td>Quito</td>\n",
       "      <td>Pichincha</td>\n",
       "    </tr>\n",
       "    <tr>\n",
       "      <th>...</th>\n",
       "      <td>...</td>\n",
       "      <td>...</td>\n",
       "      <td>...</td>\n",
       "      <td>...</td>\n",
       "      <td>...</td>\n",
       "      <td>...</td>\n",
       "      <td>...</td>\n",
       "      <td>...</td>\n",
       "    </tr>\n",
       "    <tr>\n",
       "      <th>3000883</th>\n",
       "      <td>3000883</td>\n",
       "      <td>2017-08-15</td>\n",
       "      <td>9</td>\n",
       "      <td>POULTRY</td>\n",
       "      <td>438.133</td>\n",
       "      <td>0</td>\n",
       "      <td>Quito</td>\n",
       "      <td>Pichincha</td>\n",
       "    </tr>\n",
       "    <tr>\n",
       "      <th>3000884</th>\n",
       "      <td>3000884</td>\n",
       "      <td>2017-08-15</td>\n",
       "      <td>9</td>\n",
       "      <td>PREPARED FOODS</td>\n",
       "      <td>154.553</td>\n",
       "      <td>1</td>\n",
       "      <td>Quito</td>\n",
       "      <td>Pichincha</td>\n",
       "    </tr>\n",
       "    <tr>\n",
       "      <th>3000885</th>\n",
       "      <td>3000885</td>\n",
       "      <td>2017-08-15</td>\n",
       "      <td>9</td>\n",
       "      <td>PRODUCE</td>\n",
       "      <td>2419.729</td>\n",
       "      <td>148</td>\n",
       "      <td>Quito</td>\n",
       "      <td>Pichincha</td>\n",
       "    </tr>\n",
       "    <tr>\n",
       "      <th>3000886</th>\n",
       "      <td>3000886</td>\n",
       "      <td>2017-08-15</td>\n",
       "      <td>9</td>\n",
       "      <td>SCHOOL AND OFFICE SUPPLIES</td>\n",
       "      <td>121.000</td>\n",
       "      <td>8</td>\n",
       "      <td>Quito</td>\n",
       "      <td>Pichincha</td>\n",
       "    </tr>\n",
       "    <tr>\n",
       "      <th>3000887</th>\n",
       "      <td>3000887</td>\n",
       "      <td>2017-08-15</td>\n",
       "      <td>9</td>\n",
       "      <td>SEAFOOD</td>\n",
       "      <td>16.000</td>\n",
       "      <td>0</td>\n",
       "      <td>Quito</td>\n",
       "      <td>Pichincha</td>\n",
       "    </tr>\n",
       "  </tbody>\n",
       "</table>\n",
       "<p>3000888 rows × 8 columns</p>\n",
       "</div>"
      ],
      "text/plain": [
       "              id       date  store_nbr                      family     sales  \\\n",
       "0              0 2013-01-01          1                  AUTOMOTIVE     0.000   \n",
       "1              1 2013-01-01          1                   BABY CARE     0.000   \n",
       "2              2 2013-01-01          1                      BEAUTY     0.000   \n",
       "3              3 2013-01-01          1                   BEVERAGES     0.000   \n",
       "4              4 2013-01-01          1                       BOOKS     0.000   \n",
       "...          ...        ...        ...                         ...       ...   \n",
       "3000883  3000883 2017-08-15          9                     POULTRY   438.133   \n",
       "3000884  3000884 2017-08-15          9              PREPARED FOODS   154.553   \n",
       "3000885  3000885 2017-08-15          9                     PRODUCE  2419.729   \n",
       "3000886  3000886 2017-08-15          9  SCHOOL AND OFFICE SUPPLIES   121.000   \n",
       "3000887  3000887 2017-08-15          9                     SEAFOOD    16.000   \n",
       "\n",
       "         onpromotion   city      state  \n",
       "0                  0  Quito  Pichincha  \n",
       "1                  0  Quito  Pichincha  \n",
       "2                  0  Quito  Pichincha  \n",
       "3                  0  Quito  Pichincha  \n",
       "4                  0  Quito  Pichincha  \n",
       "...              ...    ...        ...  \n",
       "3000883            0  Quito  Pichincha  \n",
       "3000884            1  Quito  Pichincha  \n",
       "3000885          148  Quito  Pichincha  \n",
       "3000886            8  Quito  Pichincha  \n",
       "3000887            0  Quito  Pichincha  \n",
       "\n",
       "[3000888 rows x 8 columns]"
      ]
     },
     "execution_count": 82,
     "metadata": {},
     "output_type": "execute_result"
    }
   ],
   "source": [
    "#combine store info into train data on store number\n",
    "stores_trimmed = stores[[\"store_nbr\", \"city\", \"state\"]]\n",
    "train.merge(stores_trimmed, on=\"store_nbr\", how=\"left\")"
   ]
  },
  {
   "cell_type": "code",
   "execution_count": 83,
   "id": "c26d0210-a009-4ce4-bb23-0bfe15e322f5",
   "metadata": {},
   "outputs": [
    {
     "name": "stdout",
     "output_type": "stream",
     "text": [
      "date\n",
      "2012-08-10          Primer Grito de Independencia\n",
      "2012-10-09             Independencia de Guayaquil\n",
      "2012-10-12    Traslado Independencia de Guayaquil\n",
      "2012-11-02                        Dia de Difuntos\n",
      "2012-11-03                Independencia de Cuenca\n",
      "                             ...                 \n",
      "2017-12-22                              Navidad-3\n",
      "2017-12-23                              Navidad-2\n",
      "2017-12-24                              Navidad-1\n",
      "2017-12-25                                Navidad\n",
      "2017-12-26                              Navidad+1\n",
      "Name: description, Length: 174, dtype: object\n"
     ]
    },
    {
     "ename": "InvalidIndexError",
     "evalue": "Reindexing only valid with uniquely valued Index objects",
     "output_type": "error",
     "traceback": [
      "\u001b[0;31m---------------------------------------------------------------------------\u001b[0m",
      "\u001b[0;31mInvalidIndexError\u001b[0m                         Traceback (most recent call last)",
      "Cell \u001b[0;32mIn[83], line 7\u001b[0m\n\u001b[1;32m      5\u001b[0m nationalholiday_map \u001b[38;5;241m=\u001b[39m holidays[\u001b[38;5;124m'\u001b[39m\u001b[38;5;124mNational\u001b[39m\u001b[38;5;124m'\u001b[39m]\u001b[38;5;241m.\u001b[39mset_index(\u001b[38;5;124m'\u001b[39m\u001b[38;5;124mdate\u001b[39m\u001b[38;5;124m'\u001b[39m)[\u001b[38;5;124m'\u001b[39m\u001b[38;5;124mdescription\u001b[39m\u001b[38;5;124m'\u001b[39m]\n\u001b[1;32m      6\u001b[0m \u001b[38;5;28mprint\u001b[39m(nationalholiday_map)\n\u001b[0;32m----> 7\u001b[0m train[\u001b[38;5;124m'\u001b[39m\u001b[38;5;124mholidays\u001b[39m\u001b[38;5;124m'\u001b[39m] \u001b[38;5;241m=\u001b[39m \u001b[43mtrain\u001b[49m\u001b[43m[\u001b[49m\u001b[38;5;124;43m'\u001b[39;49m\u001b[38;5;124;43mdate\u001b[39;49m\u001b[38;5;124;43m'\u001b[39;49m\u001b[43m]\u001b[49m\u001b[38;5;241;43m.\u001b[39;49m\u001b[43mmap\u001b[49m\u001b[43m(\u001b[49m\u001b[43mnationalholiday_map\u001b[49m\u001b[43m)\u001b[49m\n\u001b[1;32m      8\u001b[0m \u001b[38;5;28mprint\u001b[39m(train)\n",
      "File \u001b[0;32m/Library/Frameworks/Python.framework/Versions/3.12/lib/python3.12/site-packages/pandas/core/series.py:4691\u001b[0m, in \u001b[0;36mSeries.map\u001b[0;34m(self, arg, na_action)\u001b[0m\n\u001b[1;32m   4611\u001b[0m \u001b[38;5;28;01mdef\u001b[39;00m \u001b[38;5;21mmap\u001b[39m(\n\u001b[1;32m   4612\u001b[0m     \u001b[38;5;28mself\u001b[39m,\n\u001b[1;32m   4613\u001b[0m     arg: Callable \u001b[38;5;241m|\u001b[39m Mapping \u001b[38;5;241m|\u001b[39m Series,\n\u001b[1;32m   4614\u001b[0m     na_action: Literal[\u001b[38;5;124m\"\u001b[39m\u001b[38;5;124mignore\u001b[39m\u001b[38;5;124m\"\u001b[39m] \u001b[38;5;241m|\u001b[39m \u001b[38;5;28;01mNone\u001b[39;00m \u001b[38;5;241m=\u001b[39m \u001b[38;5;28;01mNone\u001b[39;00m,\n\u001b[1;32m   4615\u001b[0m ) \u001b[38;5;241m-\u001b[39m\u001b[38;5;241m>\u001b[39m Series:\n\u001b[1;32m   4616\u001b[0m \u001b[38;5;250m    \u001b[39m\u001b[38;5;124;03m\"\"\"\u001b[39;00m\n\u001b[1;32m   4617\u001b[0m \u001b[38;5;124;03m    Map values of Series according to an input mapping or function.\u001b[39;00m\n\u001b[1;32m   4618\u001b[0m \n\u001b[0;32m   (...)\u001b[0m\n\u001b[1;32m   4689\u001b[0m \u001b[38;5;124;03m    dtype: object\u001b[39;00m\n\u001b[1;32m   4690\u001b[0m \u001b[38;5;124;03m    \"\"\"\u001b[39;00m\n\u001b[0;32m-> 4691\u001b[0m     new_values \u001b[38;5;241m=\u001b[39m \u001b[38;5;28;43mself\u001b[39;49m\u001b[38;5;241;43m.\u001b[39;49m\u001b[43m_map_values\u001b[49m\u001b[43m(\u001b[49m\u001b[43marg\u001b[49m\u001b[43m,\u001b[49m\u001b[43m \u001b[49m\u001b[43mna_action\u001b[49m\u001b[38;5;241;43m=\u001b[39;49m\u001b[43mna_action\u001b[49m\u001b[43m)\u001b[49m\n\u001b[1;32m   4692\u001b[0m     \u001b[38;5;28;01mreturn\u001b[39;00m \u001b[38;5;28mself\u001b[39m\u001b[38;5;241m.\u001b[39m_constructor(new_values, index\u001b[38;5;241m=\u001b[39m\u001b[38;5;28mself\u001b[39m\u001b[38;5;241m.\u001b[39mindex, copy\u001b[38;5;241m=\u001b[39m\u001b[38;5;28;01mFalse\u001b[39;00m)\u001b[38;5;241m.\u001b[39m__finalize__(\n\u001b[1;32m   4693\u001b[0m         \u001b[38;5;28mself\u001b[39m, method\u001b[38;5;241m=\u001b[39m\u001b[38;5;124m\"\u001b[39m\u001b[38;5;124mmap\u001b[39m\u001b[38;5;124m\"\u001b[39m\n\u001b[1;32m   4694\u001b[0m     )\n",
      "File \u001b[0;32m/Library/Frameworks/Python.framework/Versions/3.12/lib/python3.12/site-packages/pandas/core/base.py:919\u001b[0m, in \u001b[0;36mIndexOpsMixin._map_values\u001b[0;34m(self, mapper, na_action, convert)\u001b[0m\n\u001b[1;32m    916\u001b[0m arr \u001b[38;5;241m=\u001b[39m \u001b[38;5;28mself\u001b[39m\u001b[38;5;241m.\u001b[39m_values\n\u001b[1;32m    918\u001b[0m \u001b[38;5;28;01mif\u001b[39;00m \u001b[38;5;28misinstance\u001b[39m(arr, ExtensionArray):\n\u001b[0;32m--> 919\u001b[0m     \u001b[38;5;28;01mreturn\u001b[39;00m \u001b[43marr\u001b[49m\u001b[38;5;241;43m.\u001b[39;49m\u001b[43mmap\u001b[49m\u001b[43m(\u001b[49m\u001b[43mmapper\u001b[49m\u001b[43m,\u001b[49m\u001b[43m \u001b[49m\u001b[43mna_action\u001b[49m\u001b[38;5;241;43m=\u001b[39;49m\u001b[43mna_action\u001b[49m\u001b[43m)\u001b[49m\n\u001b[1;32m    921\u001b[0m \u001b[38;5;28;01mreturn\u001b[39;00m algorithms\u001b[38;5;241m.\u001b[39mmap_array(arr, mapper, na_action\u001b[38;5;241m=\u001b[39mna_action, convert\u001b[38;5;241m=\u001b[39mconvert)\n",
      "File \u001b[0;32m/Library/Frameworks/Python.framework/Versions/3.12/lib/python3.12/site-packages/pandas/core/arrays/_mixins.py:81\u001b[0m, in \u001b[0;36mravel_compat.<locals>.method\u001b[0;34m(self, *args, **kwargs)\u001b[0m\n\u001b[1;32m     78\u001b[0m \u001b[38;5;129m@wraps\u001b[39m(meth)\n\u001b[1;32m     79\u001b[0m \u001b[38;5;28;01mdef\u001b[39;00m \u001b[38;5;21mmethod\u001b[39m(\u001b[38;5;28mself\u001b[39m, \u001b[38;5;241m*\u001b[39margs, \u001b[38;5;241m*\u001b[39m\u001b[38;5;241m*\u001b[39mkwargs):\n\u001b[1;32m     80\u001b[0m     \u001b[38;5;28;01mif\u001b[39;00m \u001b[38;5;28mself\u001b[39m\u001b[38;5;241m.\u001b[39mndim \u001b[38;5;241m==\u001b[39m \u001b[38;5;241m1\u001b[39m:\n\u001b[0;32m---> 81\u001b[0m         \u001b[38;5;28;01mreturn\u001b[39;00m \u001b[43mmeth\u001b[49m\u001b[43m(\u001b[49m\u001b[38;5;28;43mself\u001b[39;49m\u001b[43m,\u001b[49m\u001b[43m \u001b[49m\u001b[38;5;241;43m*\u001b[39;49m\u001b[43margs\u001b[49m\u001b[43m,\u001b[49m\u001b[43m \u001b[49m\u001b[38;5;241;43m*\u001b[39;49m\u001b[38;5;241;43m*\u001b[39;49m\u001b[43mkwargs\u001b[49m\u001b[43m)\u001b[49m\n\u001b[1;32m     83\u001b[0m     flags \u001b[38;5;241m=\u001b[39m \u001b[38;5;28mself\u001b[39m\u001b[38;5;241m.\u001b[39m_ndarray\u001b[38;5;241m.\u001b[39mflags\n\u001b[1;32m     84\u001b[0m     flat \u001b[38;5;241m=\u001b[39m \u001b[38;5;28mself\u001b[39m\u001b[38;5;241m.\u001b[39mravel(\u001b[38;5;124m\"\u001b[39m\u001b[38;5;124mK\u001b[39m\u001b[38;5;124m\"\u001b[39m)\n",
      "File \u001b[0;32m/Library/Frameworks/Python.framework/Versions/3.12/lib/python3.12/site-packages/pandas/core/arrays/datetimelike.py:738\u001b[0m, in \u001b[0;36mDatetimeLikeArrayMixin.map\u001b[0;34m(self, mapper, na_action)\u001b[0m\n\u001b[1;32m    734\u001b[0m \u001b[38;5;129m@ravel_compat\u001b[39m\n\u001b[1;32m    735\u001b[0m \u001b[38;5;28;01mdef\u001b[39;00m \u001b[38;5;21mmap\u001b[39m(\u001b[38;5;28mself\u001b[39m, mapper, na_action\u001b[38;5;241m=\u001b[39m\u001b[38;5;28;01mNone\u001b[39;00m):\n\u001b[1;32m    736\u001b[0m     \u001b[38;5;28;01mfrom\u001b[39;00m \u001b[38;5;21;01mpandas\u001b[39;00m \u001b[38;5;28;01mimport\u001b[39;00m Index\n\u001b[0;32m--> 738\u001b[0m     result \u001b[38;5;241m=\u001b[39m \u001b[43mmap_array\u001b[49m\u001b[43m(\u001b[49m\u001b[38;5;28;43mself\u001b[39;49m\u001b[43m,\u001b[49m\u001b[43m \u001b[49m\u001b[43mmapper\u001b[49m\u001b[43m,\u001b[49m\u001b[43m \u001b[49m\u001b[43mna_action\u001b[49m\u001b[38;5;241;43m=\u001b[39;49m\u001b[43mna_action\u001b[49m\u001b[43m)\u001b[49m\n\u001b[1;32m    739\u001b[0m     result \u001b[38;5;241m=\u001b[39m Index(result)\n\u001b[1;32m    741\u001b[0m     \u001b[38;5;28;01mif\u001b[39;00m \u001b[38;5;28misinstance\u001b[39m(result, ABCMultiIndex):\n",
      "File \u001b[0;32m/Library/Frameworks/Python.framework/Versions/3.12/lib/python3.12/site-packages/pandas/core/algorithms.py:1732\u001b[0m, in \u001b[0;36mmap_array\u001b[0;34m(arr, mapper, na_action, convert)\u001b[0m\n\u001b[1;32m   1728\u001b[0m     mapper \u001b[38;5;241m=\u001b[39m mapper[mapper\u001b[38;5;241m.\u001b[39mindex\u001b[38;5;241m.\u001b[39mnotna()]\n\u001b[1;32m   1730\u001b[0m \u001b[38;5;66;03m# Since values were input this means we came from either\u001b[39;00m\n\u001b[1;32m   1731\u001b[0m \u001b[38;5;66;03m# a dict or a series and mapper should be an index\u001b[39;00m\n\u001b[0;32m-> 1732\u001b[0m indexer \u001b[38;5;241m=\u001b[39m \u001b[43mmapper\u001b[49m\u001b[38;5;241;43m.\u001b[39;49m\u001b[43mindex\u001b[49m\u001b[38;5;241;43m.\u001b[39;49m\u001b[43mget_indexer\u001b[49m\u001b[43m(\u001b[49m\u001b[43marr\u001b[49m\u001b[43m)\u001b[49m\n\u001b[1;32m   1733\u001b[0m new_values \u001b[38;5;241m=\u001b[39m take_nd(mapper\u001b[38;5;241m.\u001b[39m_values, indexer)\n\u001b[1;32m   1735\u001b[0m \u001b[38;5;28;01mreturn\u001b[39;00m new_values\n",
      "File \u001b[0;32m/Library/Frameworks/Python.framework/Versions/3.12/lib/python3.12/site-packages/pandas/core/indexes/base.py:3885\u001b[0m, in \u001b[0;36mIndex.get_indexer\u001b[0;34m(self, target, method, limit, tolerance)\u001b[0m\n\u001b[1;32m   3882\u001b[0m \u001b[38;5;28mself\u001b[39m\u001b[38;5;241m.\u001b[39m_check_indexing_method(method, limit, tolerance)\n\u001b[1;32m   3884\u001b[0m \u001b[38;5;28;01mif\u001b[39;00m \u001b[38;5;129;01mnot\u001b[39;00m \u001b[38;5;28mself\u001b[39m\u001b[38;5;241m.\u001b[39m_index_as_unique:\n\u001b[0;32m-> 3885\u001b[0m     \u001b[38;5;28;01mraise\u001b[39;00m InvalidIndexError(\u001b[38;5;28mself\u001b[39m\u001b[38;5;241m.\u001b[39m_requires_unique_msg)\n\u001b[1;32m   3887\u001b[0m \u001b[38;5;28;01mif\u001b[39;00m \u001b[38;5;28mlen\u001b[39m(target) \u001b[38;5;241m==\u001b[39m \u001b[38;5;241m0\u001b[39m:\n\u001b[1;32m   3888\u001b[0m     \u001b[38;5;28;01mreturn\u001b[39;00m np\u001b[38;5;241m.\u001b[39marray([], dtype\u001b[38;5;241m=\u001b[39mnp\u001b[38;5;241m.\u001b[39mintp)\n",
      "\u001b[0;31mInvalidIndexError\u001b[0m: Reindexing only valid with uniquely valued Index objects"
     ]
    }
   ],
   "source": [
    "#combine holiday info into train data\n",
    "train['holidays'] = None\n",
    "grouped = holidays_events.groupby('locale')\n",
    "holidays = {locale: group for locale, group in grouped}\n",
    "nationalholiday_map = holidays['National'].set_index('date')['description']\n",
    "train['holidays'] = train['date'].map(nationalholiday_map)\n",
    "print(train)"
   ]
  },
  {
   "cell_type": "code",
   "execution_count": 42,
   "id": "7da3785a-e1cc-4864-885a-6dd7c2c4678d",
   "metadata": {},
   "outputs": [],
   "source": [
    "#fill missing values in training data\n",
    "train[[\"sales\", \"onpromotion\"]] = train[[\"sales\", \"onpromotion\"]].fillna(0.)\n",
    "train.id = train.id.interpolate(method=\"linear\")"
   ]
  },
  {
   "cell_type": "code",
   "execution_count": 43,
   "id": "bf498d6a-074f-4ff1-a17d-6bcc6d19e1a7",
   "metadata": {},
   "outputs": [],
   "source": [
    "grouped = train.groupby(['store_nbr', 'family'])\n",
    "\n",
    "# Convert to dictionary of DataFrames\n",
    "dfs = {combination: group for combination, group in grouped}"
   ]
  },
  {
   "cell_type": "code",
   "execution_count": 51,
   "id": "2d54d5bf-6217-41ca-8933-32929b949163",
   "metadata": {},
   "outputs": [
    {
     "name": "stdout",
     "output_type": "stream",
     "text": [
      "dict_keys([(1, 'AUTOMOTIVE'), (1, 'BABY CARE'), (1, 'BEAUTY'), (1, 'BEVERAGES'), (1, 'BOOKS'), (1, 'BREAD/BAKERY'), (1, 'CELEBRATION'), (1, 'CLEANING'), (1, 'DAIRY'), (1, 'DELI'), (1, 'EGGS'), (1, 'FROZEN FOODS'), (1, 'GROCERY I'), (1, 'GROCERY II'), (1, 'HARDWARE'), (1, 'HOME AND KITCHEN I'), (1, 'HOME AND KITCHEN II'), (1, 'HOME APPLIANCES'), (1, 'HOME CARE'), (1, 'LADIESWEAR'), (1, 'LAWN AND GARDEN'), (1, 'LINGERIE'), (1, 'LIQUOR,WINE,BEER'), (1, 'MAGAZINES'), (1, 'MEATS'), (1, 'PERSONAL CARE'), (1, 'PET SUPPLIES'), (1, 'PLAYERS AND ELECTRONICS'), (1, 'POULTRY'), (1, 'PREPARED FOODS'), (1, 'PRODUCE'), (1, 'SCHOOL AND OFFICE SUPPLIES'), (1, 'SEAFOOD'), (2, 'AUTOMOTIVE'), (2, 'BABY CARE'), (2, 'BEAUTY'), (2, 'BEVERAGES'), (2, 'BOOKS'), (2, 'BREAD/BAKERY'), (2, 'CELEBRATION'), (2, 'CLEANING'), (2, 'DAIRY'), (2, 'DELI'), (2, 'EGGS'), (2, 'FROZEN FOODS'), (2, 'GROCERY I'), (2, 'GROCERY II'), (2, 'HARDWARE'), (2, 'HOME AND KITCHEN I'), (2, 'HOME AND KITCHEN II'), (2, 'HOME APPLIANCES'), (2, 'HOME CARE'), (2, 'LADIESWEAR'), (2, 'LAWN AND GARDEN'), (2, 'LINGERIE'), (2, 'LIQUOR,WINE,BEER'), (2, 'MAGAZINES'), (2, 'MEATS'), (2, 'PERSONAL CARE'), (2, 'PET SUPPLIES'), (2, 'PLAYERS AND ELECTRONICS'), (2, 'POULTRY'), (2, 'PREPARED FOODS'), (2, 'PRODUCE'), (2, 'SCHOOL AND OFFICE SUPPLIES'), (2, 'SEAFOOD'), (3, 'AUTOMOTIVE'), (3, 'BABY CARE'), (3, 'BEAUTY'), (3, 'BEVERAGES'), (3, 'BOOKS'), (3, 'BREAD/BAKERY'), (3, 'CELEBRATION'), (3, 'CLEANING'), (3, 'DAIRY'), (3, 'DELI'), (3, 'EGGS'), (3, 'FROZEN FOODS'), (3, 'GROCERY I'), (3, 'GROCERY II'), (3, 'HARDWARE'), (3, 'HOME AND KITCHEN I'), (3, 'HOME AND KITCHEN II'), (3, 'HOME APPLIANCES'), (3, 'HOME CARE'), (3, 'LADIESWEAR'), (3, 'LAWN AND GARDEN'), (3, 'LINGERIE'), (3, 'LIQUOR,WINE,BEER'), (3, 'MAGAZINES'), (3, 'MEATS'), (3, 'PERSONAL CARE'), (3, 'PET SUPPLIES'), (3, 'PLAYERS AND ELECTRONICS'), (3, 'POULTRY'), (3, 'PREPARED FOODS'), (3, 'PRODUCE'), (3, 'SCHOOL AND OFFICE SUPPLIES'), (3, 'SEAFOOD'), (4, 'AUTOMOTIVE'), (4, 'BABY CARE'), (4, 'BEAUTY'), (4, 'BEVERAGES'), (4, 'BOOKS'), (4, 'BREAD/BAKERY'), (4, 'CELEBRATION'), (4, 'CLEANING'), (4, 'DAIRY'), (4, 'DELI'), (4, 'EGGS'), (4, 'FROZEN FOODS'), (4, 'GROCERY I'), (4, 'GROCERY II'), (4, 'HARDWARE'), (4, 'HOME AND KITCHEN I'), (4, 'HOME AND KITCHEN II'), (4, 'HOME APPLIANCES'), (4, 'HOME CARE'), (4, 'LADIESWEAR'), (4, 'LAWN AND GARDEN'), (4, 'LINGERIE'), (4, 'LIQUOR,WINE,BEER'), (4, 'MAGAZINES'), (4, 'MEATS'), (4, 'PERSONAL CARE'), (4, 'PET SUPPLIES'), (4, 'PLAYERS AND ELECTRONICS'), (4, 'POULTRY'), (4, 'PREPARED FOODS'), (4, 'PRODUCE'), (4, 'SCHOOL AND OFFICE SUPPLIES'), (4, 'SEAFOOD'), (5, 'AUTOMOTIVE'), (5, 'BABY CARE'), (5, 'BEAUTY'), (5, 'BEVERAGES'), (5, 'BOOKS'), (5, 'BREAD/BAKERY'), (5, 'CELEBRATION'), (5, 'CLEANING'), (5, 'DAIRY'), (5, 'DELI'), (5, 'EGGS'), (5, 'FROZEN FOODS'), (5, 'GROCERY I'), (5, 'GROCERY II'), (5, 'HARDWARE'), (5, 'HOME AND KITCHEN I'), (5, 'HOME AND KITCHEN II'), (5, 'HOME APPLIANCES'), (5, 'HOME CARE'), (5, 'LADIESWEAR'), (5, 'LAWN AND GARDEN'), (5, 'LINGERIE'), (5, 'LIQUOR,WINE,BEER'), (5, 'MAGAZINES'), (5, 'MEATS'), (5, 'PERSONAL CARE'), (5, 'PET SUPPLIES'), (5, 'PLAYERS AND ELECTRONICS'), (5, 'POULTRY'), (5, 'PREPARED FOODS'), (5, 'PRODUCE'), (5, 'SCHOOL AND OFFICE SUPPLIES'), (5, 'SEAFOOD'), (6, 'AUTOMOTIVE'), (6, 'BABY CARE'), (6, 'BEAUTY'), (6, 'BEVERAGES'), (6, 'BOOKS'), (6, 'BREAD/BAKERY'), (6, 'CELEBRATION'), (6, 'CLEANING'), (6, 'DAIRY'), (6, 'DELI'), (6, 'EGGS'), (6, 'FROZEN FOODS'), (6, 'GROCERY I'), (6, 'GROCERY II'), (6, 'HARDWARE'), (6, 'HOME AND KITCHEN I'), (6, 'HOME AND KITCHEN II'), (6, 'HOME APPLIANCES'), (6, 'HOME CARE'), (6, 'LADIESWEAR'), (6, 'LAWN AND GARDEN'), (6, 'LINGERIE'), (6, 'LIQUOR,WINE,BEER'), (6, 'MAGAZINES'), (6, 'MEATS'), (6, 'PERSONAL CARE'), (6, 'PET SUPPLIES'), (6, 'PLAYERS AND ELECTRONICS'), (6, 'POULTRY'), (6, 'PREPARED FOODS'), (6, 'PRODUCE'), (6, 'SCHOOL AND OFFICE SUPPLIES'), (6, 'SEAFOOD'), (7, 'AUTOMOTIVE'), (7, 'BABY CARE'), (7, 'BEAUTY'), (7, 'BEVERAGES'), (7, 'BOOKS'), (7, 'BREAD/BAKERY'), (7, 'CELEBRATION'), (7, 'CLEANING'), (7, 'DAIRY'), (7, 'DELI'), (7, 'EGGS'), (7, 'FROZEN FOODS'), (7, 'GROCERY I'), (7, 'GROCERY II'), (7, 'HARDWARE'), (7, 'HOME AND KITCHEN I'), (7, 'HOME AND KITCHEN II'), (7, 'HOME APPLIANCES'), (7, 'HOME CARE'), (7, 'LADIESWEAR'), (7, 'LAWN AND GARDEN'), (7, 'LINGERIE'), (7, 'LIQUOR,WINE,BEER'), (7, 'MAGAZINES'), (7, 'MEATS'), (7, 'PERSONAL CARE'), (7, 'PET SUPPLIES'), (7, 'PLAYERS AND ELECTRONICS'), (7, 'POULTRY'), (7, 'PREPARED FOODS'), (7, 'PRODUCE'), (7, 'SCHOOL AND OFFICE SUPPLIES'), (7, 'SEAFOOD'), (8, 'AUTOMOTIVE'), (8, 'BABY CARE'), (8, 'BEAUTY'), (8, 'BEVERAGES'), (8, 'BOOKS'), (8, 'BREAD/BAKERY'), (8, 'CELEBRATION'), (8, 'CLEANING'), (8, 'DAIRY'), (8, 'DELI'), (8, 'EGGS'), (8, 'FROZEN FOODS'), (8, 'GROCERY I'), (8, 'GROCERY II'), (8, 'HARDWARE'), (8, 'HOME AND KITCHEN I'), (8, 'HOME AND KITCHEN II'), (8, 'HOME APPLIANCES'), (8, 'HOME CARE'), (8, 'LADIESWEAR'), (8, 'LAWN AND GARDEN'), (8, 'LINGERIE'), (8, 'LIQUOR,WINE,BEER'), (8, 'MAGAZINES'), (8, 'MEATS'), (8, 'PERSONAL CARE'), (8, 'PET SUPPLIES'), (8, 'PLAYERS AND ELECTRONICS'), (8, 'POULTRY'), (8, 'PREPARED FOODS'), (8, 'PRODUCE'), (8, 'SCHOOL AND OFFICE SUPPLIES'), (8, 'SEAFOOD'), (9, 'AUTOMOTIVE'), (9, 'BABY CARE'), (9, 'BEAUTY'), (9, 'BEVERAGES'), (9, 'BOOKS'), (9, 'BREAD/BAKERY'), (9, 'CELEBRATION'), (9, 'CLEANING'), (9, 'DAIRY'), (9, 'DELI'), (9, 'EGGS'), (9, 'FROZEN FOODS'), (9, 'GROCERY I'), (9, 'GROCERY II'), (9, 'HARDWARE'), (9, 'HOME AND KITCHEN I'), (9, 'HOME AND KITCHEN II'), (9, 'HOME APPLIANCES'), (9, 'HOME CARE'), (9, 'LADIESWEAR'), (9, 'LAWN AND GARDEN'), (9, 'LINGERIE'), (9, 'LIQUOR,WINE,BEER'), (9, 'MAGAZINES'), (9, 'MEATS'), (9, 'PERSONAL CARE'), (9, 'PET SUPPLIES'), (9, 'PLAYERS AND ELECTRONICS'), (9, 'POULTRY'), (9, 'PREPARED FOODS'), (9, 'PRODUCE'), (9, 'SCHOOL AND OFFICE SUPPLIES'), (9, 'SEAFOOD'), (10, 'AUTOMOTIVE'), (10, 'BABY CARE'), (10, 'BEAUTY'), (10, 'BEVERAGES'), (10, 'BOOKS'), (10, 'BREAD/BAKERY'), (10, 'CELEBRATION'), (10, 'CLEANING'), (10, 'DAIRY'), (10, 'DELI'), (10, 'EGGS'), (10, 'FROZEN FOODS'), (10, 'GROCERY I'), (10, 'GROCERY II'), (10, 'HARDWARE'), (10, 'HOME AND KITCHEN I'), (10, 'HOME AND KITCHEN II'), (10, 'HOME APPLIANCES'), (10, 'HOME CARE'), (10, 'LADIESWEAR'), (10, 'LAWN AND GARDEN'), (10, 'LINGERIE'), (10, 'LIQUOR,WINE,BEER'), (10, 'MAGAZINES'), (10, 'MEATS'), (10, 'PERSONAL CARE'), (10, 'PET SUPPLIES'), (10, 'PLAYERS AND ELECTRONICS'), (10, 'POULTRY'), (10, 'PREPARED FOODS'), (10, 'PRODUCE'), (10, 'SCHOOL AND OFFICE SUPPLIES'), (10, 'SEAFOOD'), (11, 'AUTOMOTIVE'), (11, 'BABY CARE'), (11, 'BEAUTY'), (11, 'BEVERAGES'), (11, 'BOOKS'), (11, 'BREAD/BAKERY'), (11, 'CELEBRATION'), (11, 'CLEANING'), (11, 'DAIRY'), (11, 'DELI'), (11, 'EGGS'), (11, 'FROZEN FOODS'), (11, 'GROCERY I'), (11, 'GROCERY II'), (11, 'HARDWARE'), (11, 'HOME AND KITCHEN I'), (11, 'HOME AND KITCHEN II'), (11, 'HOME APPLIANCES'), (11, 'HOME CARE'), (11, 'LADIESWEAR'), (11, 'LAWN AND GARDEN'), (11, 'LINGERIE'), (11, 'LIQUOR,WINE,BEER'), (11, 'MAGAZINES'), (11, 'MEATS'), (11, 'PERSONAL CARE'), (11, 'PET SUPPLIES'), (11, 'PLAYERS AND ELECTRONICS'), (11, 'POULTRY'), (11, 'PREPARED FOODS'), (11, 'PRODUCE'), (11, 'SCHOOL AND OFFICE SUPPLIES'), (11, 'SEAFOOD'), (12, 'AUTOMOTIVE'), (12, 'BABY CARE'), (12, 'BEAUTY'), (12, 'BEVERAGES'), (12, 'BOOKS'), (12, 'BREAD/BAKERY'), (12, 'CELEBRATION'), (12, 'CLEANING'), (12, 'DAIRY'), (12, 'DELI'), (12, 'EGGS'), (12, 'FROZEN FOODS'), (12, 'GROCERY I'), (12, 'GROCERY II'), (12, 'HARDWARE'), (12, 'HOME AND KITCHEN I'), (12, 'HOME AND KITCHEN II'), (12, 'HOME APPLIANCES'), (12, 'HOME CARE'), (12, 'LADIESWEAR'), (12, 'LAWN AND GARDEN'), (12, 'LINGERIE'), (12, 'LIQUOR,WINE,BEER'), (12, 'MAGAZINES'), (12, 'MEATS'), (12, 'PERSONAL CARE'), (12, 'PET SUPPLIES'), (12, 'PLAYERS AND ELECTRONICS'), (12, 'POULTRY'), (12, 'PREPARED FOODS'), (12, 'PRODUCE'), (12, 'SCHOOL AND OFFICE SUPPLIES'), (12, 'SEAFOOD'), (13, 'AUTOMOTIVE'), (13, 'BABY CARE'), (13, 'BEAUTY'), (13, 'BEVERAGES'), (13, 'BOOKS'), (13, 'BREAD/BAKERY'), (13, 'CELEBRATION'), (13, 'CLEANING'), (13, 'DAIRY'), (13, 'DELI'), (13, 'EGGS'), (13, 'FROZEN FOODS'), (13, 'GROCERY I'), (13, 'GROCERY II'), (13, 'HARDWARE'), (13, 'HOME AND KITCHEN I'), (13, 'HOME AND KITCHEN II'), (13, 'HOME APPLIANCES'), (13, 'HOME CARE'), (13, 'LADIESWEAR'), (13, 'LAWN AND GARDEN'), (13, 'LINGERIE'), (13, 'LIQUOR,WINE,BEER'), (13, 'MAGAZINES'), (13, 'MEATS'), (13, 'PERSONAL CARE'), (13, 'PET SUPPLIES'), (13, 'PLAYERS AND ELECTRONICS'), (13, 'POULTRY'), (13, 'PREPARED FOODS'), (13, 'PRODUCE'), (13, 'SCHOOL AND OFFICE SUPPLIES'), (13, 'SEAFOOD'), (14, 'AUTOMOTIVE'), (14, 'BABY CARE'), (14, 'BEAUTY'), (14, 'BEVERAGES'), (14, 'BOOKS'), (14, 'BREAD/BAKERY'), (14, 'CELEBRATION'), (14, 'CLEANING'), (14, 'DAIRY'), (14, 'DELI'), (14, 'EGGS'), (14, 'FROZEN FOODS'), (14, 'GROCERY I'), (14, 'GROCERY II'), (14, 'HARDWARE'), (14, 'HOME AND KITCHEN I'), (14, 'HOME AND KITCHEN II'), (14, 'HOME APPLIANCES'), (14, 'HOME CARE'), (14, 'LADIESWEAR'), (14, 'LAWN AND GARDEN'), (14, 'LINGERIE'), (14, 'LIQUOR,WINE,BEER'), (14, 'MAGAZINES'), (14, 'MEATS'), (14, 'PERSONAL CARE'), (14, 'PET SUPPLIES'), (14, 'PLAYERS AND ELECTRONICS'), (14, 'POULTRY'), (14, 'PREPARED FOODS'), (14, 'PRODUCE'), (14, 'SCHOOL AND OFFICE SUPPLIES'), (14, 'SEAFOOD'), (15, 'AUTOMOTIVE'), (15, 'BABY CARE'), (15, 'BEAUTY'), (15, 'BEVERAGES'), (15, 'BOOKS'), (15, 'BREAD/BAKERY'), (15, 'CELEBRATION'), (15, 'CLEANING'), (15, 'DAIRY'), (15, 'DELI'), (15, 'EGGS'), (15, 'FROZEN FOODS'), (15, 'GROCERY I'), (15, 'GROCERY II'), (15, 'HARDWARE'), (15, 'HOME AND KITCHEN I'), (15, 'HOME AND KITCHEN II'), (15, 'HOME APPLIANCES'), (15, 'HOME CARE'), (15, 'LADIESWEAR'), (15, 'LAWN AND GARDEN'), (15, 'LINGERIE'), (15, 'LIQUOR,WINE,BEER'), (15, 'MAGAZINES'), (15, 'MEATS'), (15, 'PERSONAL CARE'), (15, 'PET SUPPLIES'), (15, 'PLAYERS AND ELECTRONICS'), (15, 'POULTRY'), (15, 'PREPARED FOODS'), (15, 'PRODUCE'), (15, 'SCHOOL AND OFFICE SUPPLIES'), (15, 'SEAFOOD'), (16, 'AUTOMOTIVE'), (16, 'BABY CARE'), (16, 'BEAUTY'), (16, 'BEVERAGES'), (16, 'BOOKS'), (16, 'BREAD/BAKERY'), (16, 'CELEBRATION'), (16, 'CLEANING'), (16, 'DAIRY'), (16, 'DELI'), (16, 'EGGS'), (16, 'FROZEN FOODS'), (16, 'GROCERY I'), (16, 'GROCERY II'), (16, 'HARDWARE'), (16, 'HOME AND KITCHEN I'), (16, 'HOME AND KITCHEN II'), (16, 'HOME APPLIANCES'), (16, 'HOME CARE'), (16, 'LADIESWEAR'), (16, 'LAWN AND GARDEN'), (16, 'LINGERIE'), (16, 'LIQUOR,WINE,BEER'), (16, 'MAGAZINES'), (16, 'MEATS'), (16, 'PERSONAL CARE'), (16, 'PET SUPPLIES'), (16, 'PLAYERS AND ELECTRONICS'), (16, 'POULTRY'), (16, 'PREPARED FOODS'), (16, 'PRODUCE'), (16, 'SCHOOL AND OFFICE SUPPLIES'), (16, 'SEAFOOD'), (17, 'AUTOMOTIVE'), (17, 'BABY CARE'), (17, 'BEAUTY'), (17, 'BEVERAGES'), (17, 'BOOKS'), (17, 'BREAD/BAKERY'), (17, 'CELEBRATION'), (17, 'CLEANING'), (17, 'DAIRY'), (17, 'DELI'), (17, 'EGGS'), (17, 'FROZEN FOODS'), (17, 'GROCERY I'), (17, 'GROCERY II'), (17, 'HARDWARE'), (17, 'HOME AND KITCHEN I'), (17, 'HOME AND KITCHEN II'), (17, 'HOME APPLIANCES'), (17, 'HOME CARE'), (17, 'LADIESWEAR'), (17, 'LAWN AND GARDEN'), (17, 'LINGERIE'), (17, 'LIQUOR,WINE,BEER'), (17, 'MAGAZINES'), (17, 'MEATS'), (17, 'PERSONAL CARE'), (17, 'PET SUPPLIES'), (17, 'PLAYERS AND ELECTRONICS'), (17, 'POULTRY'), (17, 'PREPARED FOODS'), (17, 'PRODUCE'), (17, 'SCHOOL AND OFFICE SUPPLIES'), (17, 'SEAFOOD'), (18, 'AUTOMOTIVE'), (18, 'BABY CARE'), (18, 'BEAUTY'), (18, 'BEVERAGES'), (18, 'BOOKS'), (18, 'BREAD/BAKERY'), (18, 'CELEBRATION'), (18, 'CLEANING'), (18, 'DAIRY'), (18, 'DELI'), (18, 'EGGS'), (18, 'FROZEN FOODS'), (18, 'GROCERY I'), (18, 'GROCERY II'), (18, 'HARDWARE'), (18, 'HOME AND KITCHEN I'), (18, 'HOME AND KITCHEN II'), (18, 'HOME APPLIANCES'), (18, 'HOME CARE'), (18, 'LADIESWEAR'), (18, 'LAWN AND GARDEN'), (18, 'LINGERIE'), (18, 'LIQUOR,WINE,BEER'), (18, 'MAGAZINES'), (18, 'MEATS'), (18, 'PERSONAL CARE'), (18, 'PET SUPPLIES'), (18, 'PLAYERS AND ELECTRONICS'), (18, 'POULTRY'), (18, 'PREPARED FOODS'), (18, 'PRODUCE'), (18, 'SCHOOL AND OFFICE SUPPLIES'), (18, 'SEAFOOD'), (19, 'AUTOMOTIVE'), (19, 'BABY CARE'), (19, 'BEAUTY'), (19, 'BEVERAGES'), (19, 'BOOKS'), (19, 'BREAD/BAKERY'), (19, 'CELEBRATION'), (19, 'CLEANING'), (19, 'DAIRY'), (19, 'DELI'), (19, 'EGGS'), (19, 'FROZEN FOODS'), (19, 'GROCERY I'), (19, 'GROCERY II'), (19, 'HARDWARE'), (19, 'HOME AND KITCHEN I'), (19, 'HOME AND KITCHEN II'), (19, 'HOME APPLIANCES'), (19, 'HOME CARE'), (19, 'LADIESWEAR'), (19, 'LAWN AND GARDEN'), (19, 'LINGERIE'), (19, 'LIQUOR,WINE,BEER'), (19, 'MAGAZINES'), (19, 'MEATS'), (19, 'PERSONAL CARE'), (19, 'PET SUPPLIES'), (19, 'PLAYERS AND ELECTRONICS'), (19, 'POULTRY'), (19, 'PREPARED FOODS'), (19, 'PRODUCE'), (19, 'SCHOOL AND OFFICE SUPPLIES'), (19, 'SEAFOOD'), (20, 'AUTOMOTIVE'), (20, 'BABY CARE'), (20, 'BEAUTY'), (20, 'BEVERAGES'), (20, 'BOOKS'), (20, 'BREAD/BAKERY'), (20, 'CELEBRATION'), (20, 'CLEANING'), (20, 'DAIRY'), (20, 'DELI'), (20, 'EGGS'), (20, 'FROZEN FOODS'), (20, 'GROCERY I'), (20, 'GROCERY II'), (20, 'HARDWARE'), (20, 'HOME AND KITCHEN I'), (20, 'HOME AND KITCHEN II'), (20, 'HOME APPLIANCES'), (20, 'HOME CARE'), (20, 'LADIESWEAR'), (20, 'LAWN AND GARDEN'), (20, 'LINGERIE'), (20, 'LIQUOR,WINE,BEER'), (20, 'MAGAZINES'), (20, 'MEATS'), (20, 'PERSONAL CARE'), (20, 'PET SUPPLIES'), (20, 'PLAYERS AND ELECTRONICS'), (20, 'POULTRY'), (20, 'PREPARED FOODS'), (20, 'PRODUCE'), (20, 'SCHOOL AND OFFICE SUPPLIES'), (20, 'SEAFOOD'), (21, 'AUTOMOTIVE'), (21, 'BABY CARE'), (21, 'BEAUTY'), (21, 'BEVERAGES'), (21, 'BOOKS'), (21, 'BREAD/BAKERY'), (21, 'CELEBRATION'), (21, 'CLEANING'), (21, 'DAIRY'), (21, 'DELI'), (21, 'EGGS'), (21, 'FROZEN FOODS'), (21, 'GROCERY I'), (21, 'GROCERY II'), (21, 'HARDWARE'), (21, 'HOME AND KITCHEN I'), (21, 'HOME AND KITCHEN II'), (21, 'HOME APPLIANCES'), (21, 'HOME CARE'), (21, 'LADIESWEAR'), (21, 'LAWN AND GARDEN'), (21, 'LINGERIE'), (21, 'LIQUOR,WINE,BEER'), (21, 'MAGAZINES'), (21, 'MEATS'), (21, 'PERSONAL CARE'), (21, 'PET SUPPLIES'), (21, 'PLAYERS AND ELECTRONICS'), (21, 'POULTRY'), (21, 'PREPARED FOODS'), (21, 'PRODUCE'), (21, 'SCHOOL AND OFFICE SUPPLIES'), (21, 'SEAFOOD'), (22, 'AUTOMOTIVE'), (22, 'BABY CARE'), (22, 'BEAUTY'), (22, 'BEVERAGES'), (22, 'BOOKS'), (22, 'BREAD/BAKERY'), (22, 'CELEBRATION'), (22, 'CLEANING'), (22, 'DAIRY'), (22, 'DELI'), (22, 'EGGS'), (22, 'FROZEN FOODS'), (22, 'GROCERY I'), (22, 'GROCERY II'), (22, 'HARDWARE'), (22, 'HOME AND KITCHEN I'), (22, 'HOME AND KITCHEN II'), (22, 'HOME APPLIANCES'), (22, 'HOME CARE'), (22, 'LADIESWEAR'), (22, 'LAWN AND GARDEN'), (22, 'LINGERIE'), (22, 'LIQUOR,WINE,BEER'), (22, 'MAGAZINES'), (22, 'MEATS'), (22, 'PERSONAL CARE'), (22, 'PET SUPPLIES'), (22, 'PLAYERS AND ELECTRONICS'), (22, 'POULTRY'), (22, 'PREPARED FOODS'), (22, 'PRODUCE'), (22, 'SCHOOL AND OFFICE SUPPLIES'), (22, 'SEAFOOD'), (23, 'AUTOMOTIVE'), (23, 'BABY CARE'), (23, 'BEAUTY'), (23, 'BEVERAGES'), (23, 'BOOKS'), (23, 'BREAD/BAKERY'), (23, 'CELEBRATION'), (23, 'CLEANING'), (23, 'DAIRY'), (23, 'DELI'), (23, 'EGGS'), (23, 'FROZEN FOODS'), (23, 'GROCERY I'), (23, 'GROCERY II'), (23, 'HARDWARE'), (23, 'HOME AND KITCHEN I'), (23, 'HOME AND KITCHEN II'), (23, 'HOME APPLIANCES'), (23, 'HOME CARE'), (23, 'LADIESWEAR'), (23, 'LAWN AND GARDEN'), (23, 'LINGERIE'), (23, 'LIQUOR,WINE,BEER'), (23, 'MAGAZINES'), (23, 'MEATS'), (23, 'PERSONAL CARE'), (23, 'PET SUPPLIES'), (23, 'PLAYERS AND ELECTRONICS'), (23, 'POULTRY'), (23, 'PREPARED FOODS'), (23, 'PRODUCE'), (23, 'SCHOOL AND OFFICE SUPPLIES'), (23, 'SEAFOOD'), (24, 'AUTOMOTIVE'), (24, 'BABY CARE'), (24, 'BEAUTY'), (24, 'BEVERAGES'), (24, 'BOOKS'), (24, 'BREAD/BAKERY'), (24, 'CELEBRATION'), (24, 'CLEANING'), (24, 'DAIRY'), (24, 'DELI'), (24, 'EGGS'), (24, 'FROZEN FOODS'), (24, 'GROCERY I'), (24, 'GROCERY II'), (24, 'HARDWARE'), (24, 'HOME AND KITCHEN I'), (24, 'HOME AND KITCHEN II'), (24, 'HOME APPLIANCES'), (24, 'HOME CARE'), (24, 'LADIESWEAR'), (24, 'LAWN AND GARDEN'), (24, 'LINGERIE'), (24, 'LIQUOR,WINE,BEER'), (24, 'MAGAZINES'), (24, 'MEATS'), (24, 'PERSONAL CARE'), (24, 'PET SUPPLIES'), (24, 'PLAYERS AND ELECTRONICS'), (24, 'POULTRY'), (24, 'PREPARED FOODS'), (24, 'PRODUCE'), (24, 'SCHOOL AND OFFICE SUPPLIES'), (24, 'SEAFOOD'), (25, 'AUTOMOTIVE'), (25, 'BABY CARE'), (25, 'BEAUTY'), (25, 'BEVERAGES'), (25, 'BOOKS'), (25, 'BREAD/BAKERY'), (25, 'CELEBRATION'), (25, 'CLEANING'), (25, 'DAIRY'), (25, 'DELI'), (25, 'EGGS'), (25, 'FROZEN FOODS'), (25, 'GROCERY I'), (25, 'GROCERY II'), (25, 'HARDWARE'), (25, 'HOME AND KITCHEN I'), (25, 'HOME AND KITCHEN II'), (25, 'HOME APPLIANCES'), (25, 'HOME CARE'), (25, 'LADIESWEAR'), (25, 'LAWN AND GARDEN'), (25, 'LINGERIE'), (25, 'LIQUOR,WINE,BEER'), (25, 'MAGAZINES'), (25, 'MEATS'), (25, 'PERSONAL CARE'), (25, 'PET SUPPLIES'), (25, 'PLAYERS AND ELECTRONICS'), (25, 'POULTRY'), (25, 'PREPARED FOODS'), (25, 'PRODUCE'), (25, 'SCHOOL AND OFFICE SUPPLIES'), (25, 'SEAFOOD'), (26, 'AUTOMOTIVE'), (26, 'BABY CARE'), (26, 'BEAUTY'), (26, 'BEVERAGES'), (26, 'BOOKS'), (26, 'BREAD/BAKERY'), (26, 'CELEBRATION'), (26, 'CLEANING'), (26, 'DAIRY'), (26, 'DELI'), (26, 'EGGS'), (26, 'FROZEN FOODS'), (26, 'GROCERY I'), (26, 'GROCERY II'), (26, 'HARDWARE'), (26, 'HOME AND KITCHEN I'), (26, 'HOME AND KITCHEN II'), (26, 'HOME APPLIANCES'), (26, 'HOME CARE'), (26, 'LADIESWEAR'), (26, 'LAWN AND GARDEN'), (26, 'LINGERIE'), (26, 'LIQUOR,WINE,BEER'), (26, 'MAGAZINES'), (26, 'MEATS'), (26, 'PERSONAL CARE'), (26, 'PET SUPPLIES'), (26, 'PLAYERS AND ELECTRONICS'), (26, 'POULTRY'), (26, 'PREPARED FOODS'), (26, 'PRODUCE'), (26, 'SCHOOL AND OFFICE SUPPLIES'), (26, 'SEAFOOD'), (27, 'AUTOMOTIVE'), (27, 'BABY CARE'), (27, 'BEAUTY'), (27, 'BEVERAGES'), (27, 'BOOKS'), (27, 'BREAD/BAKERY'), (27, 'CELEBRATION'), (27, 'CLEANING'), (27, 'DAIRY'), (27, 'DELI'), (27, 'EGGS'), (27, 'FROZEN FOODS'), (27, 'GROCERY I'), (27, 'GROCERY II'), (27, 'HARDWARE'), (27, 'HOME AND KITCHEN I'), (27, 'HOME AND KITCHEN II'), (27, 'HOME APPLIANCES'), (27, 'HOME CARE'), (27, 'LADIESWEAR'), (27, 'LAWN AND GARDEN'), (27, 'LINGERIE'), (27, 'LIQUOR,WINE,BEER'), (27, 'MAGAZINES'), (27, 'MEATS'), (27, 'PERSONAL CARE'), (27, 'PET SUPPLIES'), (27, 'PLAYERS AND ELECTRONICS'), (27, 'POULTRY'), (27, 'PREPARED FOODS'), (27, 'PRODUCE'), (27, 'SCHOOL AND OFFICE SUPPLIES'), (27, 'SEAFOOD'), (28, 'AUTOMOTIVE'), (28, 'BABY CARE'), (28, 'BEAUTY'), (28, 'BEVERAGES'), (28, 'BOOKS'), (28, 'BREAD/BAKERY'), (28, 'CELEBRATION'), (28, 'CLEANING'), (28, 'DAIRY'), (28, 'DELI'), (28, 'EGGS'), (28, 'FROZEN FOODS'), (28, 'GROCERY I'), (28, 'GROCERY II'), (28, 'HARDWARE'), (28, 'HOME AND KITCHEN I'), (28, 'HOME AND KITCHEN II'), (28, 'HOME APPLIANCES'), (28, 'HOME CARE'), (28, 'LADIESWEAR'), (28, 'LAWN AND GARDEN'), (28, 'LINGERIE'), (28, 'LIQUOR,WINE,BEER'), (28, 'MAGAZINES'), (28, 'MEATS'), (28, 'PERSONAL CARE'), (28, 'PET SUPPLIES'), (28, 'PLAYERS AND ELECTRONICS'), (28, 'POULTRY'), (28, 'PREPARED FOODS'), (28, 'PRODUCE'), (28, 'SCHOOL AND OFFICE SUPPLIES'), (28, 'SEAFOOD'), (29, 'AUTOMOTIVE'), (29, 'BABY CARE'), (29, 'BEAUTY'), (29, 'BEVERAGES'), (29, 'BOOKS'), (29, 'BREAD/BAKERY'), (29, 'CELEBRATION'), (29, 'CLEANING'), (29, 'DAIRY'), (29, 'DELI'), (29, 'EGGS'), (29, 'FROZEN FOODS'), (29, 'GROCERY I'), (29, 'GROCERY II'), (29, 'HARDWARE'), (29, 'HOME AND KITCHEN I'), (29, 'HOME AND KITCHEN II'), (29, 'HOME APPLIANCES'), (29, 'HOME CARE'), (29, 'LADIESWEAR'), (29, 'LAWN AND GARDEN'), (29, 'LINGERIE'), (29, 'LIQUOR,WINE,BEER'), (29, 'MAGAZINES'), (29, 'MEATS'), (29, 'PERSONAL CARE'), (29, 'PET SUPPLIES'), (29, 'PLAYERS AND ELECTRONICS'), (29, 'POULTRY'), (29, 'PREPARED FOODS'), (29, 'PRODUCE'), (29, 'SCHOOL AND OFFICE SUPPLIES'), (29, 'SEAFOOD'), (30, 'AUTOMOTIVE'), (30, 'BABY CARE'), (30, 'BEAUTY'), (30, 'BEVERAGES'), (30, 'BOOKS'), (30, 'BREAD/BAKERY'), (30, 'CELEBRATION'), (30, 'CLEANING'), (30, 'DAIRY'), (30, 'DELI'), (30, 'EGGS'), (30, 'FROZEN FOODS'), (30, 'GROCERY I'), (30, 'GROCERY II'), (30, 'HARDWARE'), (30, 'HOME AND KITCHEN I'), (30, 'HOME AND KITCHEN II'), (30, 'HOME APPLIANCES'), (30, 'HOME CARE'), (30, 'LADIESWEAR'), (30, 'LAWN AND GARDEN'), (30, 'LINGERIE'), (30, 'LIQUOR,WINE,BEER'), (30, 'MAGAZINES'), (30, 'MEATS'), (30, 'PERSONAL CARE'), (30, 'PET SUPPLIES'), (30, 'PLAYERS AND ELECTRONICS'), (30, 'POULTRY'), (30, 'PREPARED FOODS'), (30, 'PRODUCE'), (30, 'SCHOOL AND OFFICE SUPPLIES'), (30, 'SEAFOOD'), (31, 'AUTOMOTIVE'), (31, 'BABY CARE'), (31, 'BEAUTY'), (31, 'BEVERAGES'), (31, 'BOOKS'), (31, 'BREAD/BAKERY'), (31, 'CELEBRATION'), (31, 'CLEANING'), (31, 'DAIRY'), (31, 'DELI'), (31, 'EGGS'), (31, 'FROZEN FOODS'), (31, 'GROCERY I'), (31, 'GROCERY II'), (31, 'HARDWARE'), (31, 'HOME AND KITCHEN I'), (31, 'HOME AND KITCHEN II'), (31, 'HOME APPLIANCES'), (31, 'HOME CARE'), (31, 'LADIESWEAR'), (31, 'LAWN AND GARDEN'), (31, 'LINGERIE'), (31, 'LIQUOR,WINE,BEER'), (31, 'MAGAZINES'), (31, 'MEATS'), (31, 'PERSONAL CARE'), (31, 'PET SUPPLIES'), (31, 'PLAYERS AND ELECTRONICS'), (31, 'POULTRY'), (31, 'PREPARED FOODS'), (31, 'PRODUCE'), (31, 'SCHOOL AND OFFICE SUPPLIES'), (31, 'SEAFOOD'), (32, 'AUTOMOTIVE'), (32, 'BABY CARE'), (32, 'BEAUTY'), (32, 'BEVERAGES'), (32, 'BOOKS'), (32, 'BREAD/BAKERY'), (32, 'CELEBRATION'), (32, 'CLEANING'), (32, 'DAIRY'), (32, 'DELI'), (32, 'EGGS'), (32, 'FROZEN FOODS'), (32, 'GROCERY I'), (32, 'GROCERY II'), (32, 'HARDWARE'), (32, 'HOME AND KITCHEN I'), (32, 'HOME AND KITCHEN II'), (32, 'HOME APPLIANCES'), (32, 'HOME CARE'), (32, 'LADIESWEAR'), (32, 'LAWN AND GARDEN'), (32, 'LINGERIE'), (32, 'LIQUOR,WINE,BEER'), (32, 'MAGAZINES'), (32, 'MEATS'), (32, 'PERSONAL CARE'), (32, 'PET SUPPLIES'), (32, 'PLAYERS AND ELECTRONICS'), (32, 'POULTRY'), (32, 'PREPARED FOODS'), (32, 'PRODUCE'), (32, 'SCHOOL AND OFFICE SUPPLIES'), (32, 'SEAFOOD'), (33, 'AUTOMOTIVE'), (33, 'BABY CARE'), (33, 'BEAUTY'), (33, 'BEVERAGES'), (33, 'BOOKS'), (33, 'BREAD/BAKERY'), (33, 'CELEBRATION'), (33, 'CLEANING'), (33, 'DAIRY'), (33, 'DELI'), (33, 'EGGS'), (33, 'FROZEN FOODS'), (33, 'GROCERY I'), (33, 'GROCERY II'), (33, 'HARDWARE'), (33, 'HOME AND KITCHEN I'), (33, 'HOME AND KITCHEN II'), (33, 'HOME APPLIANCES'), (33, 'HOME CARE'), (33, 'LADIESWEAR'), (33, 'LAWN AND GARDEN'), (33, 'LINGERIE'), (33, 'LIQUOR,WINE,BEER'), (33, 'MAGAZINES'), (33, 'MEATS'), (33, 'PERSONAL CARE'), (33, 'PET SUPPLIES'), (33, 'PLAYERS AND ELECTRONICS'), (33, 'POULTRY'), (33, 'PREPARED FOODS'), (33, 'PRODUCE'), (33, 'SCHOOL AND OFFICE SUPPLIES'), (33, 'SEAFOOD'), (34, 'AUTOMOTIVE'), (34, 'BABY CARE'), (34, 'BEAUTY'), (34, 'BEVERAGES'), (34, 'BOOKS'), (34, 'BREAD/BAKERY'), (34, 'CELEBRATION'), (34, 'CLEANING'), (34, 'DAIRY'), (34, 'DELI'), (34, 'EGGS'), (34, 'FROZEN FOODS'), (34, 'GROCERY I'), (34, 'GROCERY II'), (34, 'HARDWARE'), (34, 'HOME AND KITCHEN I'), (34, 'HOME AND KITCHEN II'), (34, 'HOME APPLIANCES'), (34, 'HOME CARE'), (34, 'LADIESWEAR'), (34, 'LAWN AND GARDEN'), (34, 'LINGERIE'), (34, 'LIQUOR,WINE,BEER'), (34, 'MAGAZINES'), (34, 'MEATS'), (34, 'PERSONAL CARE'), (34, 'PET SUPPLIES'), (34, 'PLAYERS AND ELECTRONICS'), (34, 'POULTRY'), (34, 'PREPARED FOODS'), (34, 'PRODUCE'), (34, 'SCHOOL AND OFFICE SUPPLIES'), (34, 'SEAFOOD'), (35, 'AUTOMOTIVE'), (35, 'BABY CARE'), (35, 'BEAUTY'), (35, 'BEVERAGES'), (35, 'BOOKS'), (35, 'BREAD/BAKERY'), (35, 'CELEBRATION'), (35, 'CLEANING'), (35, 'DAIRY'), (35, 'DELI'), (35, 'EGGS'), (35, 'FROZEN FOODS'), (35, 'GROCERY I'), (35, 'GROCERY II'), (35, 'HARDWARE'), (35, 'HOME AND KITCHEN I'), (35, 'HOME AND KITCHEN II'), (35, 'HOME APPLIANCES'), (35, 'HOME CARE'), (35, 'LADIESWEAR'), (35, 'LAWN AND GARDEN'), (35, 'LINGERIE'), (35, 'LIQUOR,WINE,BEER'), (35, 'MAGAZINES'), (35, 'MEATS'), (35, 'PERSONAL CARE'), (35, 'PET SUPPLIES'), (35, 'PLAYERS AND ELECTRONICS'), (35, 'POULTRY'), (35, 'PREPARED FOODS'), (35, 'PRODUCE'), (35, 'SCHOOL AND OFFICE SUPPLIES'), (35, 'SEAFOOD'), (36, 'AUTOMOTIVE'), (36, 'BABY CARE'), (36, 'BEAUTY'), (36, 'BEVERAGES'), (36, 'BOOKS'), (36, 'BREAD/BAKERY'), (36, 'CELEBRATION'), (36, 'CLEANING'), (36, 'DAIRY'), (36, 'DELI'), (36, 'EGGS'), (36, 'FROZEN FOODS'), (36, 'GROCERY I'), (36, 'GROCERY II'), (36, 'HARDWARE'), (36, 'HOME AND KITCHEN I'), (36, 'HOME AND KITCHEN II'), (36, 'HOME APPLIANCES'), (36, 'HOME CARE'), (36, 'LADIESWEAR'), (36, 'LAWN AND GARDEN'), (36, 'LINGERIE'), (36, 'LIQUOR,WINE,BEER'), (36, 'MAGAZINES'), (36, 'MEATS'), (36, 'PERSONAL CARE'), (36, 'PET SUPPLIES'), (36, 'PLAYERS AND ELECTRONICS'), (36, 'POULTRY'), (36, 'PREPARED FOODS'), (36, 'PRODUCE'), (36, 'SCHOOL AND OFFICE SUPPLIES'), (36, 'SEAFOOD'), (37, 'AUTOMOTIVE'), (37, 'BABY CARE'), (37, 'BEAUTY'), (37, 'BEVERAGES'), (37, 'BOOKS'), (37, 'BREAD/BAKERY'), (37, 'CELEBRATION'), (37, 'CLEANING'), (37, 'DAIRY'), (37, 'DELI'), (37, 'EGGS'), (37, 'FROZEN FOODS'), (37, 'GROCERY I'), (37, 'GROCERY II'), (37, 'HARDWARE'), (37, 'HOME AND KITCHEN I'), (37, 'HOME AND KITCHEN II'), (37, 'HOME APPLIANCES'), (37, 'HOME CARE'), (37, 'LADIESWEAR'), (37, 'LAWN AND GARDEN'), (37, 'LINGERIE'), (37, 'LIQUOR,WINE,BEER'), (37, 'MAGAZINES'), (37, 'MEATS'), (37, 'PERSONAL CARE'), (37, 'PET SUPPLIES'), (37, 'PLAYERS AND ELECTRONICS'), (37, 'POULTRY'), (37, 'PREPARED FOODS'), (37, 'PRODUCE'), (37, 'SCHOOL AND OFFICE SUPPLIES'), (37, 'SEAFOOD'), (38, 'AUTOMOTIVE'), (38, 'BABY CARE'), (38, 'BEAUTY'), (38, 'BEVERAGES'), (38, 'BOOKS'), (38, 'BREAD/BAKERY'), (38, 'CELEBRATION'), (38, 'CLEANING'), (38, 'DAIRY'), (38, 'DELI'), (38, 'EGGS'), (38, 'FROZEN FOODS'), (38, 'GROCERY I'), (38, 'GROCERY II'), (38, 'HARDWARE'), (38, 'HOME AND KITCHEN I'), (38, 'HOME AND KITCHEN II'), (38, 'HOME APPLIANCES'), (38, 'HOME CARE'), (38, 'LADIESWEAR'), (38, 'LAWN AND GARDEN'), (38, 'LINGERIE'), (38, 'LIQUOR,WINE,BEER'), (38, 'MAGAZINES'), (38, 'MEATS'), (38, 'PERSONAL CARE'), (38, 'PET SUPPLIES'), (38, 'PLAYERS AND ELECTRONICS'), (38, 'POULTRY'), (38, 'PREPARED FOODS'), (38, 'PRODUCE'), (38, 'SCHOOL AND OFFICE SUPPLIES'), (38, 'SEAFOOD'), (39, 'AUTOMOTIVE'), (39, 'BABY CARE'), (39, 'BEAUTY'), (39, 'BEVERAGES'), (39, 'BOOKS'), (39, 'BREAD/BAKERY'), (39, 'CELEBRATION'), (39, 'CLEANING'), (39, 'DAIRY'), (39, 'DELI'), (39, 'EGGS'), (39, 'FROZEN FOODS'), (39, 'GROCERY I'), (39, 'GROCERY II'), (39, 'HARDWARE'), (39, 'HOME AND KITCHEN I'), (39, 'HOME AND KITCHEN II'), (39, 'HOME APPLIANCES'), (39, 'HOME CARE'), (39, 'LADIESWEAR'), (39, 'LAWN AND GARDEN'), (39, 'LINGERIE'), (39, 'LIQUOR,WINE,BEER'), (39, 'MAGAZINES'), (39, 'MEATS'), (39, 'PERSONAL CARE'), (39, 'PET SUPPLIES'), (39, 'PLAYERS AND ELECTRONICS'), (39, 'POULTRY'), (39, 'PREPARED FOODS'), (39, 'PRODUCE'), (39, 'SCHOOL AND OFFICE SUPPLIES'), (39, 'SEAFOOD'), (40, 'AUTOMOTIVE'), (40, 'BABY CARE'), (40, 'BEAUTY'), (40, 'BEVERAGES'), (40, 'BOOKS'), (40, 'BREAD/BAKERY'), (40, 'CELEBRATION'), (40, 'CLEANING'), (40, 'DAIRY'), (40, 'DELI'), (40, 'EGGS'), (40, 'FROZEN FOODS'), (40, 'GROCERY I'), (40, 'GROCERY II'), (40, 'HARDWARE'), (40, 'HOME AND KITCHEN I'), (40, 'HOME AND KITCHEN II'), (40, 'HOME APPLIANCES'), (40, 'HOME CARE'), (40, 'LADIESWEAR'), (40, 'LAWN AND GARDEN'), (40, 'LINGERIE'), (40, 'LIQUOR,WINE,BEER'), (40, 'MAGAZINES'), (40, 'MEATS'), (40, 'PERSONAL CARE'), (40, 'PET SUPPLIES'), (40, 'PLAYERS AND ELECTRONICS'), (40, 'POULTRY'), (40, 'PREPARED FOODS'), (40, 'PRODUCE'), (40, 'SCHOOL AND OFFICE SUPPLIES'), (40, 'SEAFOOD'), (41, 'AUTOMOTIVE'), (41, 'BABY CARE'), (41, 'BEAUTY'), (41, 'BEVERAGES'), (41, 'BOOKS'), (41, 'BREAD/BAKERY'), (41, 'CELEBRATION'), (41, 'CLEANING'), (41, 'DAIRY'), (41, 'DELI'), (41, 'EGGS'), (41, 'FROZEN FOODS'), (41, 'GROCERY I'), (41, 'GROCERY II'), (41, 'HARDWARE'), (41, 'HOME AND KITCHEN I'), (41, 'HOME AND KITCHEN II'), (41, 'HOME APPLIANCES'), (41, 'HOME CARE'), (41, 'LADIESWEAR'), (41, 'LAWN AND GARDEN'), (41, 'LINGERIE'), (41, 'LIQUOR,WINE,BEER'), (41, 'MAGAZINES'), (41, 'MEATS'), (41, 'PERSONAL CARE'), (41, 'PET SUPPLIES'), (41, 'PLAYERS AND ELECTRONICS'), (41, 'POULTRY'), (41, 'PREPARED FOODS'), (41, 'PRODUCE'), (41, 'SCHOOL AND OFFICE SUPPLIES'), (41, 'SEAFOOD'), (42, 'AUTOMOTIVE'), (42, 'BABY CARE'), (42, 'BEAUTY'), (42, 'BEVERAGES'), (42, 'BOOKS'), (42, 'BREAD/BAKERY'), (42, 'CELEBRATION'), (42, 'CLEANING'), (42, 'DAIRY'), (42, 'DELI'), (42, 'EGGS'), (42, 'FROZEN FOODS'), (42, 'GROCERY I'), (42, 'GROCERY II'), (42, 'HARDWARE'), (42, 'HOME AND KITCHEN I'), (42, 'HOME AND KITCHEN II'), (42, 'HOME APPLIANCES'), (42, 'HOME CARE'), (42, 'LADIESWEAR'), (42, 'LAWN AND GARDEN'), (42, 'LINGERIE'), (42, 'LIQUOR,WINE,BEER'), (42, 'MAGAZINES'), (42, 'MEATS'), (42, 'PERSONAL CARE'), (42, 'PET SUPPLIES'), (42, 'PLAYERS AND ELECTRONICS'), (42, 'POULTRY'), (42, 'PREPARED FOODS'), (42, 'PRODUCE'), (42, 'SCHOOL AND OFFICE SUPPLIES'), (42, 'SEAFOOD'), (43, 'AUTOMOTIVE'), (43, 'BABY CARE'), (43, 'BEAUTY'), (43, 'BEVERAGES'), (43, 'BOOKS'), (43, 'BREAD/BAKERY'), (43, 'CELEBRATION'), (43, 'CLEANING'), (43, 'DAIRY'), (43, 'DELI'), (43, 'EGGS'), (43, 'FROZEN FOODS'), (43, 'GROCERY I'), (43, 'GROCERY II'), (43, 'HARDWARE'), (43, 'HOME AND KITCHEN I'), (43, 'HOME AND KITCHEN II'), (43, 'HOME APPLIANCES'), (43, 'HOME CARE'), (43, 'LADIESWEAR'), (43, 'LAWN AND GARDEN'), (43, 'LINGERIE'), (43, 'LIQUOR,WINE,BEER'), (43, 'MAGAZINES'), (43, 'MEATS'), (43, 'PERSONAL CARE'), (43, 'PET SUPPLIES'), (43, 'PLAYERS AND ELECTRONICS'), (43, 'POULTRY'), (43, 'PREPARED FOODS'), (43, 'PRODUCE'), (43, 'SCHOOL AND OFFICE SUPPLIES'), (43, 'SEAFOOD'), (44, 'AUTOMOTIVE'), (44, 'BABY CARE'), (44, 'BEAUTY'), (44, 'BEVERAGES'), (44, 'BOOKS'), (44, 'BREAD/BAKERY'), (44, 'CELEBRATION'), (44, 'CLEANING'), (44, 'DAIRY'), (44, 'DELI'), (44, 'EGGS'), (44, 'FROZEN FOODS'), (44, 'GROCERY I'), (44, 'GROCERY II'), (44, 'HARDWARE'), (44, 'HOME AND KITCHEN I'), (44, 'HOME AND KITCHEN II'), (44, 'HOME APPLIANCES'), (44, 'HOME CARE'), (44, 'LADIESWEAR'), (44, 'LAWN AND GARDEN'), (44, 'LINGERIE'), (44, 'LIQUOR,WINE,BEER'), (44, 'MAGAZINES'), (44, 'MEATS'), (44, 'PERSONAL CARE'), (44, 'PET SUPPLIES'), (44, 'PLAYERS AND ELECTRONICS'), (44, 'POULTRY'), (44, 'PREPARED FOODS'), (44, 'PRODUCE'), (44, 'SCHOOL AND OFFICE SUPPLIES'), (44, 'SEAFOOD'), (45, 'AUTOMOTIVE'), (45, 'BABY CARE'), (45, 'BEAUTY'), (45, 'BEVERAGES'), (45, 'BOOKS'), (45, 'BREAD/BAKERY'), (45, 'CELEBRATION'), (45, 'CLEANING'), (45, 'DAIRY'), (45, 'DELI'), (45, 'EGGS'), (45, 'FROZEN FOODS'), (45, 'GROCERY I'), (45, 'GROCERY II'), (45, 'HARDWARE'), (45, 'HOME AND KITCHEN I'), (45, 'HOME AND KITCHEN II'), (45, 'HOME APPLIANCES'), (45, 'HOME CARE'), (45, 'LADIESWEAR'), (45, 'LAWN AND GARDEN'), (45, 'LINGERIE'), (45, 'LIQUOR,WINE,BEER'), (45, 'MAGAZINES'), (45, 'MEATS'), (45, 'PERSONAL CARE'), (45, 'PET SUPPLIES'), (45, 'PLAYERS AND ELECTRONICS'), (45, 'POULTRY'), (45, 'PREPARED FOODS'), (45, 'PRODUCE'), (45, 'SCHOOL AND OFFICE SUPPLIES'), (45, 'SEAFOOD'), (46, 'AUTOMOTIVE'), (46, 'BABY CARE'), (46, 'BEAUTY'), (46, 'BEVERAGES'), (46, 'BOOKS'), (46, 'BREAD/BAKERY'), (46, 'CELEBRATION'), (46, 'CLEANING'), (46, 'DAIRY'), (46, 'DELI'), (46, 'EGGS'), (46, 'FROZEN FOODS'), (46, 'GROCERY I'), (46, 'GROCERY II'), (46, 'HARDWARE'), (46, 'HOME AND KITCHEN I'), (46, 'HOME AND KITCHEN II'), (46, 'HOME APPLIANCES'), (46, 'HOME CARE'), (46, 'LADIESWEAR'), (46, 'LAWN AND GARDEN'), (46, 'LINGERIE'), (46, 'LIQUOR,WINE,BEER'), (46, 'MAGAZINES'), (46, 'MEATS'), (46, 'PERSONAL CARE'), (46, 'PET SUPPLIES'), (46, 'PLAYERS AND ELECTRONICS'), (46, 'POULTRY'), (46, 'PREPARED FOODS'), (46, 'PRODUCE'), (46, 'SCHOOL AND OFFICE SUPPLIES'), (46, 'SEAFOOD'), (47, 'AUTOMOTIVE'), (47, 'BABY CARE'), (47, 'BEAUTY'), (47, 'BEVERAGES'), (47, 'BOOKS'), (47, 'BREAD/BAKERY'), (47, 'CELEBRATION'), (47, 'CLEANING'), (47, 'DAIRY'), (47, 'DELI'), (47, 'EGGS'), (47, 'FROZEN FOODS'), (47, 'GROCERY I'), (47, 'GROCERY II'), (47, 'HARDWARE'), (47, 'HOME AND KITCHEN I'), (47, 'HOME AND KITCHEN II'), (47, 'HOME APPLIANCES'), (47, 'HOME CARE'), (47, 'LADIESWEAR'), (47, 'LAWN AND GARDEN'), (47, 'LINGERIE'), (47, 'LIQUOR,WINE,BEER'), (47, 'MAGAZINES'), (47, 'MEATS'), (47, 'PERSONAL CARE'), (47, 'PET SUPPLIES'), (47, 'PLAYERS AND ELECTRONICS'), (47, 'POULTRY'), (47, 'PREPARED FOODS'), (47, 'PRODUCE'), (47, 'SCHOOL AND OFFICE SUPPLIES'), (47, 'SEAFOOD'), (48, 'AUTOMOTIVE'), (48, 'BABY CARE'), (48, 'BEAUTY'), (48, 'BEVERAGES'), (48, 'BOOKS'), (48, 'BREAD/BAKERY'), (48, 'CELEBRATION'), (48, 'CLEANING'), (48, 'DAIRY'), (48, 'DELI'), (48, 'EGGS'), (48, 'FROZEN FOODS'), (48, 'GROCERY I'), (48, 'GROCERY II'), (48, 'HARDWARE'), (48, 'HOME AND KITCHEN I'), (48, 'HOME AND KITCHEN II'), (48, 'HOME APPLIANCES'), (48, 'HOME CARE'), (48, 'LADIESWEAR'), (48, 'LAWN AND GARDEN'), (48, 'LINGERIE'), (48, 'LIQUOR,WINE,BEER'), (48, 'MAGAZINES'), (48, 'MEATS'), (48, 'PERSONAL CARE'), (48, 'PET SUPPLIES'), (48, 'PLAYERS AND ELECTRONICS'), (48, 'POULTRY'), (48, 'PREPARED FOODS'), (48, 'PRODUCE'), (48, 'SCHOOL AND OFFICE SUPPLIES'), (48, 'SEAFOOD'), (49, 'AUTOMOTIVE'), (49, 'BABY CARE'), (49, 'BEAUTY'), (49, 'BEVERAGES'), (49, 'BOOKS'), (49, 'BREAD/BAKERY'), (49, 'CELEBRATION'), (49, 'CLEANING'), (49, 'DAIRY'), (49, 'DELI'), (49, 'EGGS'), (49, 'FROZEN FOODS'), (49, 'GROCERY I'), (49, 'GROCERY II'), (49, 'HARDWARE'), (49, 'HOME AND KITCHEN I'), (49, 'HOME AND KITCHEN II'), (49, 'HOME APPLIANCES'), (49, 'HOME CARE'), (49, 'LADIESWEAR'), (49, 'LAWN AND GARDEN'), (49, 'LINGERIE'), (49, 'LIQUOR,WINE,BEER'), (49, 'MAGAZINES'), (49, 'MEATS'), (49, 'PERSONAL CARE'), (49, 'PET SUPPLIES'), (49, 'PLAYERS AND ELECTRONICS'), (49, 'POULTRY'), (49, 'PREPARED FOODS'), (49, 'PRODUCE'), (49, 'SCHOOL AND OFFICE SUPPLIES'), (49, 'SEAFOOD'), (50, 'AUTOMOTIVE'), (50, 'BABY CARE'), (50, 'BEAUTY'), (50, 'BEVERAGES'), (50, 'BOOKS'), (50, 'BREAD/BAKERY'), (50, 'CELEBRATION'), (50, 'CLEANING'), (50, 'DAIRY'), (50, 'DELI'), (50, 'EGGS'), (50, 'FROZEN FOODS'), (50, 'GROCERY I'), (50, 'GROCERY II'), (50, 'HARDWARE'), (50, 'HOME AND KITCHEN I'), (50, 'HOME AND KITCHEN II'), (50, 'HOME APPLIANCES'), (50, 'HOME CARE'), (50, 'LADIESWEAR'), (50, 'LAWN AND GARDEN'), (50, 'LINGERIE'), (50, 'LIQUOR,WINE,BEER'), (50, 'MAGAZINES'), (50, 'MEATS'), (50, 'PERSONAL CARE'), (50, 'PET SUPPLIES'), (50, 'PLAYERS AND ELECTRONICS'), (50, 'POULTRY'), (50, 'PREPARED FOODS'), (50, 'PRODUCE'), (50, 'SCHOOL AND OFFICE SUPPLIES'), (50, 'SEAFOOD'), (51, 'AUTOMOTIVE'), (51, 'BABY CARE'), (51, 'BEAUTY'), (51, 'BEVERAGES'), (51, 'BOOKS'), (51, 'BREAD/BAKERY'), (51, 'CELEBRATION'), (51, 'CLEANING'), (51, 'DAIRY'), (51, 'DELI'), (51, 'EGGS'), (51, 'FROZEN FOODS'), (51, 'GROCERY I'), (51, 'GROCERY II'), (51, 'HARDWARE'), (51, 'HOME AND KITCHEN I'), (51, 'HOME AND KITCHEN II'), (51, 'HOME APPLIANCES'), (51, 'HOME CARE'), (51, 'LADIESWEAR'), (51, 'LAWN AND GARDEN'), (51, 'LINGERIE'), (51, 'LIQUOR,WINE,BEER'), (51, 'MAGAZINES'), (51, 'MEATS'), (51, 'PERSONAL CARE'), (51, 'PET SUPPLIES'), (51, 'PLAYERS AND ELECTRONICS'), (51, 'POULTRY'), (51, 'PREPARED FOODS'), (51, 'PRODUCE'), (51, 'SCHOOL AND OFFICE SUPPLIES'), (51, 'SEAFOOD'), (52, 'AUTOMOTIVE'), (52, 'BABY CARE'), (52, 'BEAUTY'), (52, 'BEVERAGES'), (52, 'BOOKS'), (52, 'BREAD/BAKERY'), (52, 'CELEBRATION'), (52, 'CLEANING'), (52, 'DAIRY'), (52, 'DELI'), (52, 'EGGS'), (52, 'FROZEN FOODS'), (52, 'GROCERY I'), (52, 'GROCERY II'), (52, 'HARDWARE'), (52, 'HOME AND KITCHEN I'), (52, 'HOME AND KITCHEN II'), (52, 'HOME APPLIANCES'), (52, 'HOME CARE'), (52, 'LADIESWEAR'), (52, 'LAWN AND GARDEN'), (52, 'LINGERIE'), (52, 'LIQUOR,WINE,BEER'), (52, 'MAGAZINES'), (52, 'MEATS'), (52, 'PERSONAL CARE'), (52, 'PET SUPPLIES'), (52, 'PLAYERS AND ELECTRONICS'), (52, 'POULTRY'), (52, 'PREPARED FOODS'), (52, 'PRODUCE'), (52, 'SCHOOL AND OFFICE SUPPLIES'), (52, 'SEAFOOD'), (53, 'AUTOMOTIVE'), (53, 'BABY CARE'), (53, 'BEAUTY'), (53, 'BEVERAGES'), (53, 'BOOKS'), (53, 'BREAD/BAKERY'), (53, 'CELEBRATION'), (53, 'CLEANING'), (53, 'DAIRY'), (53, 'DELI'), (53, 'EGGS'), (53, 'FROZEN FOODS'), (53, 'GROCERY I'), (53, 'GROCERY II'), (53, 'HARDWARE'), (53, 'HOME AND KITCHEN I'), (53, 'HOME AND KITCHEN II'), (53, 'HOME APPLIANCES'), (53, 'HOME CARE'), (53, 'LADIESWEAR'), (53, 'LAWN AND GARDEN'), (53, 'LINGERIE'), (53, 'LIQUOR,WINE,BEER'), (53, 'MAGAZINES'), (53, 'MEATS'), (53, 'PERSONAL CARE'), (53, 'PET SUPPLIES'), (53, 'PLAYERS AND ELECTRONICS'), (53, 'POULTRY'), (53, 'PREPARED FOODS'), (53, 'PRODUCE'), (53, 'SCHOOL AND OFFICE SUPPLIES'), (53, 'SEAFOOD'), (54, 'AUTOMOTIVE'), (54, 'BABY CARE'), (54, 'BEAUTY'), (54, 'BEVERAGES'), (54, 'BOOKS'), (54, 'BREAD/BAKERY'), (54, 'CELEBRATION'), (54, 'CLEANING'), (54, 'DAIRY'), (54, 'DELI'), (54, 'EGGS'), (54, 'FROZEN FOODS'), (54, 'GROCERY I'), (54, 'GROCERY II'), (54, 'HARDWARE'), (54, 'HOME AND KITCHEN I'), (54, 'HOME AND KITCHEN II'), (54, 'HOME APPLIANCES'), (54, 'HOME CARE'), (54, 'LADIESWEAR'), (54, 'LAWN AND GARDEN'), (54, 'LINGERIE'), (54, 'LIQUOR,WINE,BEER'), (54, 'MAGAZINES'), (54, 'MEATS'), (54, 'PERSONAL CARE'), (54, 'PET SUPPLIES'), (54, 'PLAYERS AND ELECTRONICS'), (54, 'POULTRY'), (54, 'PREPARED FOODS'), (54, 'PRODUCE'), (54, 'SCHOOL AND OFFICE SUPPLIES'), (54, 'SEAFOOD')])\n"
     ]
    }
   ],
   "source": []
  },
  {
   "cell_type": "code",
   "execution_count": null,
   "id": "4d2aa8b1-9336-4623-ac78-dc3983c99701",
   "metadata": {},
   "outputs": [],
   "source": []
  }
 ],
 "metadata": {
  "kernelspec": {
   "display_name": "Python 3 (ipykernel)",
   "language": "python",
   "name": "python3"
  },
  "language_info": {
   "codemirror_mode": {
    "name": "ipython",
    "version": 3
   },
   "file_extension": ".py",
   "mimetype": "text/x-python",
   "name": "python",
   "nbconvert_exporter": "python",
   "pygments_lexer": "ipython3",
   "version": "3.12.1"
  }
 },
 "nbformat": 4,
 "nbformat_minor": 5
}
